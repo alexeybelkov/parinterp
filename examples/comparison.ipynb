{
 "cells": [
  {
   "cell_type": "code",
   "execution_count": null,
   "metadata": {},
   "outputs": [],
   "source": [
    "from parinterp import Linear2DInterpolator\n",
    "import numpy as np\n",
    "import os\n",
    "from matplotlib import pyplot as plt\n",
    "from tqdm.notebook import tqdm\n",
    "from scipy.interpolate import griddata"
   ]
  },
  {
   "cell_type": "code",
   "execution_count": null,
   "metadata": {},
   "outputs": [],
   "source": [
    "arrays = {}\n",
    "\n",
    "for item in list(os.walk('/homes/lbelkov/griddata/'))[1:]:\n",
    "    arrays[item[0][2:][len('omes/lbelkov/griddata/'):]] = np.load(item[0] + '/' + item[2][0], allow_pickle=True)\n",
    "ids = tuple(arrays.keys())"
   ]
  },
  {
   "cell_type": "code",
   "execution_count": null,
   "metadata": {},
   "outputs": [],
   "source": [
    "for k, x in tqdm(arrays.items()):\n",
    "    add_cols = x.shape[1] // 4\n",
    "    distances = np.concatenate((x[...,-add_cols:], x, x[...,:add_cols] ), axis=1)\n",
    "    int_points = np.transpose((np.isnan(distances)).nonzero())\n",
    "    x_points: np.ndarray = np.transpose((~np.isnan(distances)).nonzero())\n",
    "    x_values = distances[~np.isnan(distances)]\n",
    "    parinterp_map = distances.copy()\n",
    "    scipy_map = distances.copy()\n",
    "    parinterp_values = Linear2DInterpolator(x_points, -1)(int_points, x_values, fill_value=0.0)\n",
    "    scipy_values = griddata(x_points, x_values, int_points, method='linear', fill_value=0.0)\n",
    "\n",
    "    for i, v in enumerate(parinterp_values):\n",
    "        parinterp_map[int_points[i][0], int_points[i][1]] = v\n",
    "\n",
    "    for i, v in enumerate(scipy_values):\n",
    "        scipy_map[int_points[i][0], int_points[i][1]] = v\n",
    "\n",
    "    delta = np.abs(parinterp_map - scipy_map)\n",
    "    q99_delta = np.quantile(delta, 0.99)\n",
    "    max_delta = np.max(delta)\n",
    "    outliers_num = np.sum(delta > q99_delta)\n",
    "\n",
    "    fig, ax = plt.subplots(nrows=1, ncols=2)\n",
    "    # fig.set_figheight(50)\n",
    "    fig.set_figwidth(20)\n",
    "    print('interpolated points shape', int_points.shape)\n",
    "    print('q99 delta =', q99_delta)\n",
    "    print('max delta =', max_delta)\n",
    "    print('num of points where delta > q99_delta =', outliers_num)\n",
    "    # ax[0].imshow(parinterp_map)\n",
    "    # ax[0].set_title('parinterp')\n",
    "    # ax[1].imshow(scipy_map)\n",
    "    # ax[1].set_title('scipy.interpolate.griddata')\n",
    "    # ax[2].imshow(delta / scipy_map)\n",
    "    # ax[2].set_title('delta normed by scipy_map')\n",
    "    q = 99\n",
    "    top_delta = np.sort(delta.ravel())[int(delta.size * q / 100):]\n",
    "    ax[0].hist(top_delta, bins=32)\n",
    "    ax[0].set_title(f'> q{q} delta')\n",
    "    ax[1].hist((top_delta / max_delta).ravel(), bins=32)\n",
    "    ax[1].set_title(f'> q{q} / max_delta')\n",
    "    plt.show()"
   ]
  }
 ],
 "metadata": {
  "kernelspec": {
   "display_name": "py3104",
   "language": "python",
   "name": "python3"
  },
  "language_info": {
   "codemirror_mode": {
    "name": "ipython",
    "version": 3
   },
   "file_extension": ".py",
   "mimetype": "text/x-python",
   "name": "python",
   "nbconvert_exporter": "python",
   "pygments_lexer": "ipython3",
   "version": "3.10.4"
  }
 },
 "nbformat": 4,
 "nbformat_minor": 2
}
